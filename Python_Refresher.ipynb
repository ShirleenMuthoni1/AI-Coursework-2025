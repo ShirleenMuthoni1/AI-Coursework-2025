{
  "nbformat": 4,
  "nbformat_minor": 0,
  "metadata": {
    "colab": {
      "provenance": [],
      "authorship_tag": "ABX9TyO8g/Ms63zCV3AaYH0ZXr0g",
      "include_colab_link": true
    },
    "kernelspec": {
      "name": "python3",
      "display_name": "Python 3"
    },
    "language_info": {
      "name": "python"
    }
  },
  "cells": [
    {
      "cell_type": "markdown",
      "metadata": {
        "id": "view-in-github",
        "colab_type": "text"
      },
      "source": [
        "<a href=\"https://colab.research.google.com/github/ShirleenMuthoni1/AI-Coursework-2025/blob/Practice-Exercise-1/Python_Refresher.ipynb\" target=\"_parent\"><img src=\"https://colab.research.google.com/assets/colab-badge.svg\" alt=\"Open In Colab\"/></a>"
      ]
    },
    {
      "cell_type": "markdown",
      "source": [
        "Question 1. Write a program that asks the user for a number of days.The program then prints out the number of seconds in the amount of days given.\n"
      ],
      "metadata": {
        "id": "g-2E2wxYyHnD"
      }
    },
    {
      "cell_type": "code",
      "source": [
        "# User inputs the number of days\n",
        "days = int(input(\"Input the number of days;\"))\n",
        "# Convert number of days given by user into seconds\n",
        "seconds = days*24*60*60\n",
        "# If the user has input 1 as the number of days\n",
        "if days == 1:\n",
        "    print(f\"There are {seconds} seconds in {days} day.\")\n",
        "# If the user has input more than 1 day as the number of days\n",
        "else:\n",
        " # Output the results to user\n",
        " print(f\"There are {seconds} seconds in {days} days.\")"
      ],
      "metadata": {
        "colab": {
          "base_uri": "https://localhost:8080/"
        },
        "id": "be8HYK9VyIG6",
        "outputId": "974a3200-f793-4112-b94c-aa905cb52953"
      },
      "execution_count": null,
      "outputs": [
        {
          "output_type": "stream",
          "name": "stdout",
          "text": [
            "Input the number of days;84\n",
            "There are 7257600 seconds in 84 days.\n"
          ]
        }
      ]
    },
    {
      "cell_type": "markdown",
      "source": [
        "Question 2. Write a program that asks a user to input the radius then the program calculates the volume of a sphere (the formula for the volume is (4/3)πr3). Use the exponential operator in python to compute (r3)."
      ],
      "metadata": {
        "id": "nIscwCg2yfiv"
      }
    },
    {
      "cell_type": "code",
      "source": [
        "# Import math library so that pi can work\n",
        "import math\n",
        "# Ask user to input the radius\n",
        "radius = float(input(\"Input the radius of the sphere; \"))\n",
        "# Calculate the volume of the sphere\n",
        "volume = (4/3) * math.pi * (radius ** 3)\n",
        "# Output the result of the volume of the sphere\n",
        "print(f\"The volume of a sphere is {volume:.2f}\")"
      ],
      "metadata": {
        "colab": {
          "base_uri": "https://localhost:8080/"
        },
        "id": "tvGYs3feykWK",
        "outputId": "f3c3432b-d769-4d7e-b053-8cbaef6ef45b"
      },
      "execution_count": null,
      "outputs": [
        {
          "output_type": "stream",
          "name": "stdout",
          "text": [
            "Input the radius of the sphere; 10.55\n",
            "The volume of a sphere is 4918.65\n"
          ]
        }
      ]
    },
    {
      "cell_type": "markdown",
      "source": [
        "Question 3. Using functions, write a program to compute the area and perimeter of a square. The program should ask the user to enter a number corresponding to the side length of the square and display the area and perimeter of the square."
      ],
      "metadata": {
        "id": "-xEvyH31zD-g"
      }
    },
    {
      "cell_type": "code",
      "source": [
        "# Function to calculate area of a square\n",
        "def square_area(side):\n",
        "  return side ** 2\n",
        "#Function to calculate perimeter of a square\n",
        "def square_perimeter(side):\n",
        "  return 4 * side\n",
        "# Ask user to input the side length of the square\n",
        "side_length = float(input(\"Input the side length of the square;\"))\n",
        "# Call the functions for both area and perimeter\n",
        "area = square_area(side_length)\n",
        "perimeter = square_perimeter(side_length)\n",
        "# Output the results for both area and perimeter of the square\n",
        "print(f\"The area of the square is {area:.2f}\")\n",
        "print(f\"The perimeter of the square is {perimeter:.2f}\")"
      ],
      "metadata": {
        "colab": {
          "base_uri": "https://localhost:8080/"
        },
        "id": "v0V-B8DDzJN7",
        "outputId": "e2642ec7-fe6b-4b01-af0e-047388decfae"
      },
      "execution_count": null,
      "outputs": [
        {
          "output_type": "stream",
          "name": "stdout",
          "text": [
            "Input the side length of the square;20\n",
            "The area of the square is 400.00\n",
            "The perimeter of the square is 80.00\n"
          ]
        }
      ]
    },
    {
      "cell_type": "markdown",
      "source": [
        "Question 4. Write a program using functions that determines whether a character input by a user is uppercase or lower case."
      ],
      "metadata": {
        "id": "YZFxuAXGzRth"
      }
    },
    {
      "cell_type": "code",
      "source": [
        "# Function that checks if input is uppercase, lowercase or not a character\n",
        "def check_case(ch):\n",
        "    if ch.isupper():\n",
        "        return \"uppercase\"\n",
        "    elif ch.islower():\n",
        "        return \"lowercase\"\n",
        "    else:\n",
        "        return \"it is not a letter\"\n",
        "# Ask user to enter a character\n",
        "char = input(\"Enter a character: \")\n",
        "# Check if user entered a character\n",
        "if len(char) == 1:\n",
        "    result = check_case(char)\n",
        "    print(f\"The character {char} is {result}.\")\n",
        "else:\n",
        "    print(\"Error: Please enter only one character.\")\n",
        "\n"
      ],
      "metadata": {
        "colab": {
          "base_uri": "https://localhost:8080/"
        },
        "id": "YU433E_yzWnB",
        "outputId": "9781a431-8126-4870-a791-7e8477eadc18"
      },
      "execution_count": null,
      "outputs": [
        {
          "output_type": "stream",
          "name": "stdout",
          "text": [
            "Enter a character: z\n",
            "The character z is lowercase.\n"
          ]
        }
      ]
    },
    {
      "cell_type": "markdown",
      "source": [
        "Question 5. The following is pseudocode for a program being designed. Write the Python program equivalent of the same.\n",
        "\n",
        "BEGIN\n",
        "\n",
        "SET x TO 0, y TO 20\n",
        "\n",
        "REPEAT\n",
        "\n",
        "SUBTRACT 4 FROM y\n",
        "\n",
        "ADD 2/y TO x\n",
        "\n",
        "UNTIL\n",
        "\n",
        "y IS LESS THAN 6\n",
        "\n",
        "DISPLAY x\n",
        "\n",
        "END"
      ],
      "metadata": {
        "id": "HLPt9p6B1z88"
      }
    },
    {
      "cell_type": "code",
      "source": [
        "# Initialise the variables\n",
        "x = 0\n",
        "y = 20\n",
        "\n",
        "while True:\n",
        "  # SUBTRACT 4 FROM y\n",
        "  y = y - 4\n",
        "  # ADD 2/y TO x\n",
        "  x = x + (2 / y)\n",
        "  # UNTIL y IS LESS THAN 6\n",
        "  if y < 6:\n",
        "        break\n",
        "\n",
        "# DISPLAY x\n",
        "print(x)\n",
        "\n",
        "\n"
      ],
      "metadata": {
        "colab": {
          "base_uri": "https://localhost:8080/"
        },
        "id": "YLwdLYZ316vp",
        "outputId": "9f37cfb6-f858-44ec-a276-0419ae81bcee"
      },
      "execution_count": null,
      "outputs": [
        {
          "output_type": "stream",
          "name": "stdout",
          "text": [
            "1.0416666666666665\n"
          ]
        }
      ]
    },
    {
      "cell_type": "markdown",
      "source": [
        "Question 6. Write a Python program that does the following:\n",
        "\n",
        "i. Uses a loop for a user to continually input 5 values to populate an\n",
        "array.\n",
        "\n",
        "ii. Calculates and displays the average of the values input into the array.\n"
      ],
      "metadata": {
        "id": "E5Egcrcz2rKw"
      }
    },
    {
      "cell_type": "code",
      "source": [
        "# Initailise an empty list of arrays\n",
        "values = []\n",
        "# Ask user to enter 5 values\n",
        "print(\"Enter five values:\")\n",
        "# Using a for and while loop to allow user to input 5 values continuously\n",
        "for i in range(5):\n",
        "    while True:\n",
        "        try:\n",
        "            value = float(input(f\"Enter value {i+1}: \"))\n",
        "            values.append(value)\n",
        "            break\n",
        "        except ValueError:\n",
        "            print(\"Please enter a value.\")\n",
        "# Calculate average of the values entered\n",
        "average = sum(values) / len(values)\n",
        "# Display result to user\n",
        "print(f\"\\nThese are the values you entered: {values}\")\n",
        "print(f\"The average of the values is: {average}\")"
      ],
      "metadata": {
        "colab": {
          "base_uri": "https://localhost:8080/"
        },
        "id": "RHddqKws25vE",
        "outputId": "1ba54b70-b4f9-48cc-db30-de14e365faf3"
      },
      "execution_count": null,
      "outputs": [
        {
          "output_type": "stream",
          "name": "stdout",
          "text": [
            "Enter five values:\n",
            "Enter value 1: 35\n",
            "Enter value 2: 29\n",
            "Enter value 3: 64\n",
            "Enter value 4: 77\n",
            "Enter value 5: 15\n",
            "\n",
            "These are the values you entered: [35.0, 29.0, 64.0, 77.0, 15.0]\n",
            "The average of the values is: 44.0\n"
          ]
        }
      ]
    }
  ]
}